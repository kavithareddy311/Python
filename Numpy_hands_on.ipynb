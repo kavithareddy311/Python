{
  "nbformat": 4,
  "nbformat_minor": 0,
  "metadata": {
    "colab": {
      "name": "Numpy hands on.ipynb",
      "provenance": [],
      "collapsed_sections": [],
      "include_colab_link": true
    },
    "kernelspec": {
      "name": "python3",
      "display_name": "Python 3"
    }
  },
  "cells": [
    {
      "cell_type": "markdown",
      "metadata": {
        "id": "view-in-github",
        "colab_type": "text"
      },
      "source": [
        "<a href=\"https://colab.research.google.com/github/kavithareddy311/Python/blob/master/Numpy_hands_on.ipynb\" target=\"_parent\"><img src=\"https://colab.research.google.com/assets/colab-badge.svg\" alt=\"Open In Colab\"/></a>"
      ]
    },
    {
      "cell_type": "code",
      "metadata": {
        "id": "pl6EsKooj2XS",
        "colab_type": "code",
        "colab": {}
      },
      "source": [
        "import numpy as np"
      ],
      "execution_count": 0,
      "outputs": []
    },
    {
      "cell_type": "code",
      "metadata": {
        "id": "HIq2LbGcmD4O",
        "colab_type": "code",
        "colab": {}
      },
      "source": [
        "# creating array by passing list"
      ],
      "execution_count": 0,
      "outputs": []
    },
    {
      "cell_type": "code",
      "metadata": {
        "id": "-u4v7GI8muTN",
        "colab_type": "code",
        "colab": {}
      },
      "source": [
        "arrlist = np.array([1,2,3])\n",
        "print(arrlist)"
      ],
      "execution_count": 0,
      "outputs": []
    },
    {
      "cell_type": "code",
      "metadata": {
        "id": "TkBLmnaUm-Y_",
        "colab_type": "code",
        "colab": {}
      },
      "source": [
        "# creating array my using range function "
      ],
      "execution_count": 0,
      "outputs": []
    },
    {
      "cell_type": "code",
      "metadata": {
        "id": "jED0xf6KnEN3",
        "colab_type": "code",
        "colab": {}
      },
      "source": [
        "arrrange = np.array(range(1,20))\n",
        "print(arrrange)"
      ],
      "execution_count": 0,
      "outputs": []
    },
    {
      "cell_type": "code",
      "metadata": {
        "id": "h18JOaW5ncB_",
        "colab_type": "code",
        "colab": {}
      },
      "source": [
        "#create an array by using arange function"
      ],
      "execution_count": 0,
      "outputs": []
    },
    {
      "cell_type": "code",
      "metadata": {
        "id": "9uuf2eo8kvSh",
        "colab_type": "code",
        "colab": {}
      },
      "source": [
        "arr1 = np.arange(1,20,5) \n",
        "print(arr1)"
      ],
      "execution_count": 0,
      "outputs": []
    },
    {
      "cell_type": "code",
      "metadata": {
        "id": "KDD2M7Vtlfjr",
        "colab_type": "code",
        "colab": {}
      },
      "source": [
        "# creating multi dimentional array by using list \n",
        "arrdim = np.array([[1,2,3],[4,5,6]])\n",
        "print(arrdim)\n",
        "# cannot create multi dimentional array by using arange.\n",
        "arrdim1 = np.array(range(1,5,2))\n",
        "arrdim2 = np.array(range(5,10,2))\n",
        "print(arrdim1)\n",
        "print(arrdim2)\n",
        "#arrmuldim = np.array(arrdim1)\n",
        "#print(arrmuldim)\n",
        "list1 = [[1,2,3],[4,5,6]]\n",
        "arrmuldim = np.array(list1)\n",
        "print(list1)"
      ],
      "execution_count": 0,
      "outputs": []
    },
    {
      "cell_type": "code",
      "metadata": {
        "id": "iaGoMbGGW_gO",
        "colab_type": "code",
        "colab": {}
      },
      "source": [
        "# passing two list to array function to construct multidimentional array\n",
        "lista = range(1,10,2)\n",
        "listb = range(10,20,2)\n",
        "arrlist = np.array([lista,listb])\n",
        "print (arrlist)"
      ],
      "execution_count": 0,
      "outputs": []
    },
    {
      "cell_type": "code",
      "metadata": {
        "id": "7cQ7ZSTZst51",
        "colab_type": "code",
        "colab": {}
      },
      "source": [
        "#arrays can be initialized with zeros and ones by using inbuilt functions like ZEROS and ONES\n",
        "arr0 = np.zeros(3,dtype=int)\n",
        "print(arr0)\n",
        "arr1 = np.ones((2,4),dtype=int)\n",
        "print(arr1)\n",
        "for i in range(arr1.shape[0]):\n",
        "    for j in range(arr1.shape[1]):\n",
        "        print(i,j)\n",
        "        print(arr1[i,j])\n",
        "        arr1[i,j] += 5\n",
        "        print(arr1)"
      ],
      "execution_count": 0,
      "outputs": []
    },
    {
      "cell_type": "code",
      "metadata": {
        "id": "EK3t7eUjuwdv",
        "colab_type": "code",
        "colab": {}
      },
      "source": [
        "#dividding range into equal number of parts\n",
        "arrlin = np.linspace(1,20,5,dtype= np.int)\n",
        "print(arrlin)"
      ],
      "execution_count": 0,
      "outputs": []
    },
    {
      "cell_type": "code",
      "metadata": {
        "id": "SeIcDRUkaXTP",
        "colab_type": "code",
        "colab": {}
      },
      "source": [
        "#display five random numbers\n",
        "randnum = np.random.rand(5)\n",
        "print(randnum)\n",
        "#display random numbers in a range\n",
        "randnum1 = np.random.rand(1,20,5)\n",
        "print(randnum1)"
      ],
      "execution_count": 0,
      "outputs": []
    },
    {
      "cell_type": "code",
      "metadata": {
        "id": "D-4zy_bfbB2d",
        "colab_type": "code",
        "colab": {}
      },
      "source": [
        "#slicing and indexing in arrays\n",
        "arr1 = np.arange(1,20,2)\n",
        "print(arr1)\n",
        "print (arr1.shape)\n",
        "arr1 = arr1[0:4]\n",
        "print (arr1)\n",
        "arr1 = np.arange(1,20,2)\n",
        "arr1 = arr1.reshape(2,5)\n",
        "print(arr1)\n",
        "arrindex = arr1[0:,1:]\n",
        "print (arrindex)\n",
        "arrindex1 = arr1[0:1,0:1]\n",
        "print (arrindex1)\n",
        "arrindex2 = arr1[[0:,2]]\n",
        "print (arrindex2)"
      ],
      "execution_count": 0,
      "outputs": []
    },
    {
      "cell_type": "code",
      "metadata": {
        "id": "qngxOHxYDOp1",
        "colab_type": "code",
        "colab": {}
      },
      "source": [
        "arr1 = np.arange(1,10)\n",
        "print(arr1)\n",
        "print (arr1.shape)\n",
        "arr1 = arr1[2:5]\n",
        "print (arr1)"
      ],
      "execution_count": 0,
      "outputs": []
    },
    {
      "cell_type": "code",
      "metadata": {
        "id": "k7_iBCZMANGS",
        "colab_type": "code",
        "colab": {}
      },
      "source": [
        ":"
      ],
      "execution_count": 0,
      "outputs": []
    }
  ]
}
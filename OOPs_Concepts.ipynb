{
  "nbformat": 4,
  "nbformat_minor": 0,
  "metadata": {
    "colab": {
      "name": "OOPs Concepts.ipynb",
      "provenance": [],
      "collapsed_sections": [],
      "include_colab_link": true
    },
    "kernelspec": {
      "name": "python3",
      "display_name": "Python 3"
    }
  },
  "cells": [
    {
      "cell_type": "markdown",
      "metadata": {
        "id": "view-in-github",
        "colab_type": "text"
      },
      "source": [
        "<a href=\"https://colab.research.google.com/github/kavithareddy311/Python/blob/master/OOPs_Concepts.ipynb\" target=\"_parent\"><img src=\"https://colab.research.google.com/assets/colab-badge.svg\" alt=\"Open In Colab\"/></a>"
      ]
    },
    {
      "cell_type": "code",
      "metadata": {
        "id": "-OiqDsU3JGaT",
        "colab_type": "code",
        "colab": {}
      },
      "source": [
        "# define class, object, method, method with arguments\n",
        "class Name:\n",
        "    Var =\"my first class\"\n",
        "    Num = 1\n",
        "    def Add(self):\n",
        "        print(5+10)\n",
        "    def AddNum(self,Num1):\n",
        "        Num1 += self.Num\n",
        "        print(Num1)"
      ],
      "execution_count": 0,
      "outputs": []
    },
    {
      "cell_type": "code",
      "metadata": {
        "id": "0zBYJkHwKBL8",
        "colab_type": "code",
        "outputId": "6355bdb0-7468-4fc0-ec11-8e17ce721904",
        "colab": {
          "base_uri": "https://localhost:8080/",
          "height": 102
        }
      },
      "source": [
        "NameVar = Name()\n",
        "print(NameVar.Var)\n",
        "NameVar.Add()\n",
        "NameVar.AddNum(30)\n",
        "NameVar1 = Name()\n",
        "NameVar1.Var = \"override object instance\"\n",
        "print(NameVar.Var,\"\\n\",NameVar1.Var)"
      ],
      "execution_count": 0,
      "outputs": [
        {
          "output_type": "stream",
          "text": [
            "my first class\n",
            "15\n",
            "31\n",
            "my first class \n",
            " override object instance\n"
          ],
          "name": "stdout"
        }
      ]
    },
    {
      "cell_type": "code",
      "metadata": {
        "id": "eltLuaiPjq_7",
        "colab_type": "code",
        "colab": {}
      },
      "source": [
        "# init method in Python, using class variable in methods\n",
        "class NewStudent:\n",
        "    Num = 0\n",
        "    def __init__(self,name,branch,course):\n",
        "        self.n = name\n",
        "        self.b = branch\n",
        "        self.c = course\n",
        "    def PrintDetails(self):\n",
        "        print(\"name\",self.n)\n",
        "        print(\"branch\",self.b)\n",
        "        print(\"course\",self.c)\n",
        "    def NumofStu(self,Num1):\n",
        "        print(\"initial number of students\",self.Num)\n",
        "        self.Num = Num1*5\n",
        "        print(\"number of students after initialize\",self.Num)"
      ],
      "execution_count": 0,
      "outputs": []
    },
    {
      "cell_type": "code",
      "metadata": {
        "id": "07_ktxrPlwVo",
        "colab_type": "code",
        "outputId": "98f76856-7578-4f14-cb54-6741afd70361",
        "colab": {
          "base_uri": "https://localhost:8080/",
          "height": 204
        }
      },
      "source": [
        "# using init method\n",
        "Student1 = NewStudent(\"kavitha\",\"MCA\",\"Maths\")\n",
        "Student1.PrintDetails()\n",
        "print(\"First Class Variable Value\", Student1.Num)\n",
        "Student1.NumofStu(1)\n",
        "print(\"After calling funcation Class Variable Value\", Student1.Num)\n",
        "Student1.Num = 2\n",
        "print(\"After reassigning Class Variable Value\", Student1.Num)\n",
        "Student1.NumofStu(1)\n",
        "print(\"After re calling funcation Class Variable Value\", Student1.Num)"
      ],
      "execution_count": 0,
      "outputs": [
        {
          "output_type": "stream",
          "text": [
            "name kavitha\n",
            "branch MCA\n",
            "course Maths\n",
            "First Class Variable Value 0\n",
            "initial number of students 0\n",
            "number of students after initialize 5\n",
            "After calling funcation Class Variable Value 5\n",
            "After reassigning Class Variable Value 2\n",
            "initial number of students 2\n",
            "number of students after initialize 5\n",
            "After re calling funcation Class Variable Value 5\n"
          ],
          "name": "stdout"
        }
      ]
    },
    {
      "cell_type": "code",
      "metadata": {
        "id": "FfhJ63_zlwTP",
        "colab_type": "code",
        "colab": {}
      },
      "source": [
        "# Inheritance\n",
        "#implementing single inheretance\n",
        "class fruit:\n",
        "    def __init__(sefl):\n",
        "        print('I am parent class of all fruits')\n",
        "    def Name(self, FruitName):\n",
        "        print(\"i am a fruit\",\"\\n\",\"My name is\",FruitName)\n",
        "\n",
        "class citrus(fruit):\n",
        "    def __init__(self):\n",
        "        super().Name(\"Lemon\")\n",
        "        print(\"i am belog to citurs group\") \n",
        "\n",
        "class Sweet(fruit):\n",
        "    def __init__(self):\n",
        "        super().Name(\"bananna\")\n",
        "        print(\"i am belog to sweet group\") "
      ],
      "execution_count": 0,
      "outputs": []
    },
    {
      "cell_type": "code",
      "metadata": {
        "id": "o0f9So0ZtH9x",
        "colab_type": "code",
        "outputId": "aa281a9f-479f-4e49-8fab-dec12aff9125",
        "colab": {
          "base_uri": "https://localhost:8080/",
          "height": 119
        }
      },
      "source": [
        "Lemon = citrus()\n",
        "bananna = Sweet()"
      ],
      "execution_count": 0,
      "outputs": [
        {
          "output_type": "stream",
          "text": [
            "i am a fruit \n",
            " My name is Lemon\n",
            "i am belog to citurs group\n",
            "i am a fruit \n",
            " My name is bananna\n",
            "i am belog to sweet group\n"
          ],
          "name": "stdout"
        }
      ]
    }
  ]
}